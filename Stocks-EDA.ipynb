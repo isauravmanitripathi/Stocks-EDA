{
 "cells": [
  {
   "cell_type": "code",
   "execution_count": 1,
   "metadata": {
    "collapsed": true
   },
   "outputs": [
    {
     "name": "stdout",
     "output_type": "stream",
     "text": [
      "Collecting yfinance\r\n",
      "  Downloading yfinance-0.1.84-py2.py3-none-any.whl (29 kB)\r\n",
      "Collecting appdirs>=1.4.4\r\n",
      "  Downloading appdirs-1.4.4-py2.py3-none-any.whl (9.6 kB)\r\n",
      "Collecting multitasking>=0.0.7\r\n",
      "  Downloading multitasking-0.0.11-py3-none-any.whl (8.5 kB)\r\n",
      "Requirement already satisfied: pandas>=0.24.0 in /Users/sauravtripathi/Downloads/python/Online-Retail-Transaction/venv/lib/python3.8/site-packages (from yfinance) (1.5.1)\r\n",
      "Collecting lxml>=4.5.1\r\n",
      "  Downloading lxml-4.9.1-cp38-cp38-macosx_10_15_x86_64.whl (4.6 MB)\r\n",
      "\u001B[K     |████████████████████████████████| 4.6 MB 5.8 MB/s eta 0:00:01     |███████████▋                    | 1.7 MB 5.8 MB/s eta 0:00:01\r\n",
      "\u001B[?25hCollecting requests>=2.26\r\n",
      "  Downloading requests-2.28.1-py3-none-any.whl (62 kB)\r\n",
      "\u001B[K     |████████████████████████████████| 62 kB 2.4 MB/s  eta 0:00:01\r\n",
      "\u001B[?25hRequirement already satisfied: numpy>=1.15 in /Users/sauravtripathi/Downloads/python/Online-Retail-Transaction/venv/lib/python3.8/site-packages (from yfinance) (1.23.4)\r\n",
      "Requirement already satisfied: pytz>=2020.1 in /Users/sauravtripathi/Downloads/python/Online-Retail-Transaction/venv/lib/python3.8/site-packages (from pandas>=0.24.0->yfinance) (2022.5)\r\n",
      "Requirement already satisfied: python-dateutil>=2.8.1 in /Users/sauravtripathi/Downloads/python/Online-Retail-Transaction/venv/lib/python3.8/site-packages (from pandas>=0.24.0->yfinance) (2.8.2)\r\n",
      "Requirement already satisfied: six>=1.5 in /Users/sauravtripathi/Downloads/python/Online-Retail-Transaction/venv/lib/python3.8/site-packages (from python-dateutil>=2.8.1->pandas>=0.24.0->yfinance) (1.16.0)\r\n",
      "Collecting certifi>=2017.4.17\r\n",
      "  Downloading certifi-2022.9.24-py3-none-any.whl (161 kB)\r\n",
      "\u001B[K     |████████████████████████████████| 161 kB 15.0 MB/s eta 0:00:01\r\n",
      "\u001B[?25hCollecting urllib3<1.27,>=1.21.1\r\n",
      "  Downloading urllib3-1.26.12-py2.py3-none-any.whl (140 kB)\r\n",
      "\u001B[K     |████████████████████████████████| 140 kB 6.1 MB/s eta 0:00:01\r\n",
      "\u001B[?25hCollecting charset-normalizer<3,>=2\r\n",
      "  Downloading charset_normalizer-2.1.1-py3-none-any.whl (39 kB)\r\n",
      "Requirement already satisfied: idna<4,>=2.5 in /Users/sauravtripathi/Downloads/python/Online-Retail-Transaction/venv/lib/python3.8/site-packages (from requests>=2.26->yfinance) (3.4)\r\n",
      "Installing collected packages: urllib3, charset-normalizer, certifi, requests, multitasking, lxml, appdirs, yfinance\r\n",
      "Successfully installed appdirs-1.4.4 certifi-2022.9.24 charset-normalizer-2.1.1 lxml-4.9.1 multitasking-0.0.11 requests-2.28.1 urllib3-1.26.12 yfinance-0.1.84\r\n",
      "\u001B[33mWARNING: You are using pip version 21.1.2; however, version 22.3 is available.\r\n",
      "You should consider upgrading via the '/Users/sauravtripathi/Downloads/python/Online-Retail-Transaction/venv/bin/python -m pip install --upgrade pip' command.\u001B[0m\r\n"
     ]
    }
   ],
   "source": [
    "!pip install yfinance"
   ]
  },
  {
   "cell_type": "code",
   "execution_count": null,
   "outputs": [],
   "source": [],
   "metadata": {
    "collapsed": false,
    "pycharm": {
     "name": "#%%\n"
    }
   }
  }
 ],
 "metadata": {
  "kernelspec": {
   "display_name": "Python 3",
   "language": "python",
   "name": "python3"
  },
  "language_info": {
   "codemirror_mode": {
    "name": "ipython",
    "version": 2
   },
   "file_extension": ".py",
   "mimetype": "text/x-python",
   "name": "python",
   "nbconvert_exporter": "python",
   "pygments_lexer": "ipython2",
   "version": "2.7.6"
  }
 },
 "nbformat": 4,
 "nbformat_minor": 0
}